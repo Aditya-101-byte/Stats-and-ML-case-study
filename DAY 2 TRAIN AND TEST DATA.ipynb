{
 "cells": [
  {
   "cell_type": "code",
   "execution_count": 25,
   "id": "599201ae",
   "metadata": {},
   "outputs": [
    {
     "data": {
      "text/html": [
       "<div>\n",
       "<style scoped>\n",
       "    .dataframe tbody tr th:only-of-type {\n",
       "        vertical-align: middle;\n",
       "    }\n",
       "\n",
       "    .dataframe tbody tr th {\n",
       "        vertical-align: top;\n",
       "    }\n",
       "\n",
       "    .dataframe thead th {\n",
       "        text-align: right;\n",
       "    }\n",
       "</style>\n",
       "<table border=\"1\" class=\"dataframe\">\n",
       "  <thead>\n",
       "    <tr style=\"text-align: right;\">\n",
       "      <th></th>\n",
       "      <th>close_old</th>\n",
       "      <th>close_new</th>\n",
       "    </tr>\n",
       "  </thead>\n",
       "  <tbody>\n",
       "    <tr>\n",
       "      <th>0</th>\n",
       "      <td>82.00</td>\n",
       "      <td>83.45</td>\n",
       "    </tr>\n",
       "    <tr>\n",
       "      <th>1</th>\n",
       "      <td>83.30</td>\n",
       "      <td>84.65</td>\n",
       "    </tr>\n",
       "    <tr>\n",
       "      <th>2</th>\n",
       "      <td>80.95</td>\n",
       "      <td>84.50</td>\n",
       "    </tr>\n",
       "    <tr>\n",
       "      <th>3</th>\n",
       "      <td>80.25</td>\n",
       "      <td>82.20</td>\n",
       "    </tr>\n",
       "    <tr>\n",
       "      <th>4</th>\n",
       "      <td>79.10</td>\n",
       "      <td>82.70</td>\n",
       "    </tr>\n",
       "  </tbody>\n",
       "</table>\n",
       "</div>"
      ],
      "text/plain": [
       "   close_old  close_new\n",
       "0      82.00      83.45\n",
       "1      83.30      84.65\n",
       "2      80.95      84.50\n",
       "3      80.25      82.20\n",
       "4      79.10      82.70"
      ]
     },
     "execution_count": 25,
     "metadata": {},
     "output_type": "execute_result"
    }
   ],
   "source": [
    "import pandas as pd\n",
    "df = pd.read_csv('C:/Users/hp/Downloads/man infra close open.csv')\n",
    "df.head()"
   ]
  },
  {
   "cell_type": "code",
   "execution_count": 26,
   "id": "edbafb75",
   "metadata": {},
   "outputs": [
    {
     "data": {
      "text/html": [
       "<div>\n",
       "<style scoped>\n",
       "    .dataframe tbody tr th:only-of-type {\n",
       "        vertical-align: middle;\n",
       "    }\n",
       "\n",
       "    .dataframe tbody tr th {\n",
       "        vertical-align: top;\n",
       "    }\n",
       "\n",
       "    .dataframe thead th {\n",
       "        text-align: right;\n",
       "    }\n",
       "</style>\n",
       "<table border=\"1\" class=\"dataframe\">\n",
       "  <thead>\n",
       "    <tr style=\"text-align: right;\">\n",
       "      <th></th>\n",
       "      <th>close_new</th>\n",
       "    </tr>\n",
       "  </thead>\n",
       "  <tbody>\n",
       "    <tr>\n",
       "      <th>0</th>\n",
       "      <td>83.45</td>\n",
       "    </tr>\n",
       "    <tr>\n",
       "      <th>1</th>\n",
       "      <td>84.65</td>\n",
       "    </tr>\n",
       "    <tr>\n",
       "      <th>2</th>\n",
       "      <td>84.50</td>\n",
       "    </tr>\n",
       "    <tr>\n",
       "      <th>3</th>\n",
       "      <td>82.20</td>\n",
       "    </tr>\n",
       "    <tr>\n",
       "      <th>4</th>\n",
       "      <td>82.70</td>\n",
       "    </tr>\n",
       "  </tbody>\n",
       "</table>\n",
       "</div>"
      ],
      "text/plain": [
       "   close_new\n",
       "0      83.45\n",
       "1      84.65\n",
       "2      84.50\n",
       "3      82.20\n",
       "4      82.70"
      ]
     },
     "execution_count": 26,
     "metadata": {},
     "output_type": "execute_result"
    }
   ],
   "source": [
    "x= df.drop(['close_old'], axis ='columns')\n",
    "x.head()"
   ]
  },
  {
   "cell_type": "code",
   "execution_count": 29,
   "id": "ea60a3b1",
   "metadata": {},
   "outputs": [
    {
     "data": {
      "text/plain": [
       "0    83.45\n",
       "1    84.65\n",
       "2    84.50\n",
       "3    82.20\n",
       "4    82.70\n",
       "Name: close_new, dtype: float64"
      ]
     },
     "execution_count": 29,
     "metadata": {},
     "output_type": "execute_result"
    }
   ],
   "source": [
    "y= df.close_new\n",
    "y.head()"
   ]
  },
  {
   "cell_type": "code",
   "execution_count": 30,
   "id": "164b9f6a",
   "metadata": {},
   "outputs": [],
   "source": [
    "import matplotlib.pyplot as plt\n"
   ]
  },
  {
   "cell_type": "code",
   "execution_count": 31,
   "id": "eb89648f",
   "metadata": {},
   "outputs": [
    {
     "data": {
      "text/plain": [
       "<matplotlib.collections.PathCollection at 0x1f3e6207ee0>"
      ]
     },
     "execution_count": 31,
     "metadata": {},
     "output_type": "execute_result"
    },
    {
     "data": {
      "image/png": "[encoded data removed]",
      "text/plain": [
       "<Figure size 432x288 with 1 Axes>"
      ]
     },
     "metadata": {
      "needs_background": "light"
     },
     "output_type": "display_data"
    }
   ],
   "source": [
    "plt.scatter(df['close_old'], df['close_new'])"
   ]
  },
  {
   "cell_type": "code",
   "execution_count": 47,
   "id": "0b74377f",
   "metadata": {},
   "outputs": [],
   "source": [
    "from sklearn.model_selection import train_test_split\n",
    "x_train, x_test, y_train, y_test = train_test_split(x,y,test_size=0.2, random_state = 1)\n"
   ]
  },
  {
   "cell_type": "code",
   "execution_count": 48,
   "id": "968311d3",
   "metadata": {},
   "outputs": [
    {
     "data": {
      "text/plain": [
       "2143    12.48\n",
       "1742    22.40\n",
       "650     10.60\n",
       "2315    19.25\n",
       "432     25.50\n",
       "        ...  \n",
       "1428    27.67\n",
       "560     13.33\n",
       "638     13.30\n",
       "1975    16.17\n",
       "1578    29.70\n",
       "Name: close_new, Length: 495, dtype: float64"
      ]
     },
     "execution_count": 48,
     "metadata": {},
     "output_type": "execute_result"
    }
   ],
   "source": [
    "y_test"
   ]
  },
  {
   "cell_type": "code",
   "execution_count": 49,
   "id": "3d5616dc",
   "metadata": {},
   "outputs": [
    {
     "data": {
      "text/plain": [
       "LinearRegression()"
      ]
     },
     "execution_count": 49,
     "metadata": {},
     "output_type": "execute_result"
    }
   ],
   "source": [
    "from sklearn.linear_model import LinearRegression\n",
    "model = LinearRegression()\n",
    "model.fit(x_train, y_train)"
   ]
  },
  {
   "cell_type": "code",
   "execution_count": 50,
   "id": "4132d932",
   "metadata": {},
   "outputs": [
    {
     "data": {
      "text/plain": [
       "array([ 12.48,  22.4 ,  10.6 ,  19.25,  25.5 ,  25.97,  15.97,  59.97,\n",
       "        41.43,  18.47,  11.3 ,  37.9 ,  28.53,  19.25,  20.25,  91.6 ,\n",
       "        23.17,  20.2 ,  13.67,  21.33,  17.7 ,  82.7 ,  95.5 ,  39.77,\n",
       "        42.63,  17.07,  32.73,  18.87,  15.97,  11.76, 112.15,  15.85,\n",
       "        90.35,  73.1 ,  23.47,  16.15,  26.33,  23.21,  23.92,  26.17,\n",
       "        43.63,  18.77,  40.27,  18.8 ,  40.  ,  24.87,  18.5 ,  15.67,\n",
       "       102.05,  31.5 ,  25.37,  66.  ,  23.67,  16.16,  25.27,  25.23,\n",
       "        24.23,  22.13,  44.33,  17.5 ,  42.1 ,  21.57,  18.03,  17.31,\n",
       "        25.83,  29.83,  56.6 ,  21.87,  46.73,  17.27,  43.83,  25.4 ,\n",
       "        34.8 ,  83.3 ,  12.13,  13.63,  43.37,  31.23,  12.47,  17.43,\n",
       "        27.8 ,  24.53,  18.52,  28.77,  27.13,  18.57,  15.27,  12.3 ,\n",
       "        23.27,  11.77,  82.65,  44.53,  21.63,  24.9 ,  18.9 ,  36.1 ,\n",
       "        15.69,  12.87,  11.6 ,  29.2 ,  28.1 ,  28.57,  17.  ,  27.17,\n",
       "        17.27,  13.26,  25.83,  15.07,  25.93,  21.  ,  17.7 ,  23.79,\n",
       "        27.03,  22.65,  28.57,  11.83,  16.96,  41.3 ,  29.67,  16.9 ,\n",
       "        31.23,  90.6 ,  16.8 ,  34.23,  20.29,  37.83,  25.57,  29.23,\n",
       "        13.9 ,  12.83,  16.9 ,  27.63,  23.67,  41.63,  27.83,  26.63,\n",
       "        42.37,  41.73,  29.  ,  23.44,  42.57, 116.05,  22.37,  42.77,\n",
       "        94.75,  24.83,  89.55,  17.67,  19.75,  26.2 ,  15.33,  19.52,\n",
       "        37.  ,  39.4 ,  43.43,  36.77,  32.03,  20.53,  90.7 ,  22.78,\n",
       "        34.63,  21.8 ,  28.1 ,  13.  ,  19.67,  20.27,  19.9 ,  41.23,\n",
       "        17.2 ,  28.97,  16.93,  89.45,  22.67,  23.07,  23.  ,  18.8 ,\n",
       "        19.99,  83.5 ,  13.12,  23.13,  41.73,  15.47,  22.2 ,  31.  ,\n",
       "        12.2 ,  14.67,  21.67,  98.7 ,  27.1 ,  24.07,  24.07,  28.23,\n",
       "        39.13,  19.97,  19.89,  84.4 ,  33.87,  89.05,  29.77,  38.4 ,\n",
       "        15.48,  28.03,  23.3 ,  91.8 ,  43.43,  23.  ,  25.67,  44.67,\n",
       "        39.9 ,  30.8 ,  38.03,  16.1 ,  43.83,  23.57,  18.27,  15.62,\n",
       "        36.33,  35.07,  42.17,  22.32,  20.55,  90.85,  17.47,  20.27,\n",
       "        12.8 ,  13.63,  18.1 , 110.9 ,  20.27,  25.6 ,  32.9 ,  43.1 ,\n",
       "        28.63,  41.67,  22.63,  38.2 ,  26.87,  40.3 ,  16.6 ,  36.57,\n",
       "        26.1 , 117.4 ,  29.13,  25.67,  30.47,  86.4 ,  21.2 ,  23.31,\n",
       "        26.03,  43.27,  42.7 ,  40.37,  24.71,  27.5 ,  40.9 ,  19.35,\n",
       "        54.53,  22.2 ,  43.97,  33.73,  17.53,  11.8 ,  13.67,  42.1 ,\n",
       "        21.3 ,  12.39,  20.2 ,  42.53,  29.2 ,  20.73,  24.66,  21.77,\n",
       "        23.3 ,  23.35,  23.16,  26.5 ,  25.5 ,  25.03,  19.23,  23.4 ,\n",
       "        36.4 ,  26.13,  16.4 ,  46.6 ,  27.3 ,  32.1 ,  24.77,  29.43,\n",
       "        26.6 ,  12.99,  42.43,  18.07,  35.4 ,  13.51,  23.43,  27.3 ,\n",
       "        26.6 ,  23.67,  26.77,  11.87,  26.43,  27.73,  17.57,  28.9 ,\n",
       "        19.33,  23.07,  27.13,  27.43,  32.13,  19.53,  13.47,  14.6 ,\n",
       "        20.23,  14.67,  15.75,  30.73,  16.46,  22.4 ,  45.67,  69.83,\n",
       "        21.2 ,  16.7 ,  17.1 ,  35.  ,  18.77,  23.4 ,  29.6 ,  10.03,\n",
       "        28.9 ,  13.88,  24.47,  28.1 ,  24.83,  24.63,  26.47,  14.23,\n",
       "        17.55,  17.07,  86.7 ,  13.25,  13.4 ,  19.37, 120.1 ,  38.53,\n",
       "        25.33,  29.1 ,  19.9 ,  28.53,  16.7 ,  83.6 ,  23.2 ,  99.15,\n",
       "        16.77,  23.7 ,  21.51,  20.99,  32.43,  14.97,  77.35,  11.27,\n",
       "        85.37,  14.32,  18.63,  32.67,  24.29,  13.73,  13.33,  23.37,\n",
       "        12.24,  38.7 ,  31.63,  30.43,  11.2 ,  25.73,  23.03,  38.3 ,\n",
       "        27.8 ,  24.33,  18.11,  41.97,  24.17,  18.33,  28.83,  89.4 ,\n",
       "        33.37,  28.37,  24.03,  19.36,  27.1 ,  17.5 ,  24.83,  13.  ,\n",
       "        21.83,  21.6 ,  26.43,  12.24,  28.63,  28.33,  28.57,  31.  ,\n",
       "        25.03,  24.98,  22.2 ,  19.14,  42.33,  18.57,  20.33,  88.75,\n",
       "        15.9 ,  35.47,  36.4 ,  14.4 ,  27.53,  25.63,  20.67,  23.5 ,\n",
       "        28.63,  21.33,  23.23,  24.67,  27.67,  24.67,  24.33,  25.6 ,\n",
       "        32.43,  92.2 ,  20.23,  31.9 ,  28.87,  19.87,  98.85,  24.27,\n",
       "        26.03,  40.7 ,  37.17,  31.47, 126.3 ,  26.27,  90.45,  83.2 ,\n",
       "       106.1 ,  14.6 ,  21.77,  30.53,  30.13,  95.05,  19.63,  26.27,\n",
       "        11.91,  93.55,  14.53,  41.87,  14.73,  47.2 ,  29.77,  25.83,\n",
       "        35.27,  32.27,  23.23,  20.97,  35.67,  33.07,  15.4 ,  25.77,\n",
       "        24.  ,  16.03,  25.93,  90.15,  22.93,  18.33,  12.43,  24.93,\n",
       "        21.97,  28.73,  22.5 ,  23.47,  29.8 ,  40.43,  29.7 , 118.75,\n",
       "        90.25, 118.9 ,  22.94,  26.53,  40.03, 119.95, 106.75,  12.3 ,\n",
       "        29.63,  42.93,  27.67,  13.33,  13.3 ,  16.17,  29.7 ])"
      ]
     },
     "execution_count": 50,
     "metadata": {},
     "output_type": "execute_result"
    }
   ],
   "source": [
    "model.predict(x_test)"
   ]
  },
  {
   "cell_type": "code",
   "execution_count": 51,
   "id": "f964f929",
   "metadata": {},
   "outputs": [
    {
     "data": {
      "text/plain": [
       "1.0"
      ]
     },
     "execution_count": 51,
     "metadata": {},
     "output_type": "execute_result"
    }
   ],
   "source": [
    "model.score(x_test, y_test)"
   ]
  },
  {
   "cell_type": "code",
   "execution_count": null,
   "id": "bde21a5f",
   "metadata": {},
   "outputs": [],
   "source": []
  },
  {
   "cell_type": "code",
   "execution_count": null,
   "id": "0f89ea3d",
   "metadata": {},
   "outputs": [],
   "source": []
  }
 ],
 "metadata": {
  "kernelspec": {
   "display_name": "Python 3",
   "language": "python",
   "name": "python3"
  },
  "language_info": {
   "codemirror_mode": {
    "name": "ipython",
    "version": 3
   },
   "file_extension": ".py",
   "mimetype": "text/x-python",
   "name": "python",
   "nbconvert_exporter": "python",
   "pygments_lexer": "ipython3",
   "version": "3.8.8"
  }
 },
 "nbformat": 4,
 "nbformat_minor": 5
}
