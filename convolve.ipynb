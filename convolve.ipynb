{
 "cells": [
  {
   "cell_type": "code",
   "execution_count": 2,
   "id": "d37f86df",
   "metadata": {},
   "outputs": [],
   "source": [
    "import pandas as pd\n",
    "import matplotlib.pyplot as plt"
   ]
  },
  {
   "cell_type": "code",
   "execution_count": 3,
   "id": "384bddfc",
   "metadata": {},
   "outputs": [],
   "source": [
    "df= pd.read_csv('C:/Users/hp/Downloads/Dataset.csv')"
   ]
  },
  {
   "cell_type": "code",
   "execution_count": 4,
   "id": "7107acb1",
   "metadata": {},
   "outputs": [
    {
     "data": {
      "text/html": [
       "<div>\n",
       "<style scoped>\n",
       "    .dataframe tbody tr th:only-of-type {\n",
       "        vertical-align: middle;\n",
       "    }\n",
       "\n",
       "    .dataframe tbody tr th {\n",
       "        vertical-align: top;\n",
       "    }\n",
       "\n",
       "    .dataframe thead th {\n",
       "        text-align: right;\n",
       "    }\n",
       "</style>\n",
       "<table border=\"1\" class=\"dataframe\">\n",
       "  <thead>\n",
       "    <tr style=\"text-align: right;\">\n",
       "      <th></th>\n",
       "      <th>Unnamed: 0</th>\n",
       "      <th>x_1</th>\n",
       "      <th>x_109</th>\n",
       "      <th>x_113</th>\n",
       "      <th>x_12</th>\n",
       "      <th>x_124</th>\n",
       "      <th>x_127</th>\n",
       "      <th>x_144</th>\n",
       "      <th>x_16</th>\n",
       "      <th>x_18</th>\n",
       "      <th>...</th>\n",
       "      <th>x_73</th>\n",
       "      <th>x_77</th>\n",
       "      <th>x_78</th>\n",
       "      <th>x_8</th>\n",
       "      <th>x_80</th>\n",
       "      <th>x_83</th>\n",
       "      <th>x_89</th>\n",
       "      <th>x_91</th>\n",
       "      <th>x_99</th>\n",
       "      <th>y</th>\n",
       "    </tr>\n",
       "  </thead>\n",
       "  <tbody>\n",
       "    <tr>\n",
       "      <th>0</th>\n",
       "      <td>0</td>\n",
       "      <td>5099</td>\n",
       "      <td>1</td>\n",
       "      <td>5</td>\n",
       "      <td>156</td>\n",
       "      <td>35</td>\n",
       "      <td>-2</td>\n",
       "      <td>1</td>\n",
       "      <td>40</td>\n",
       "      <td>999</td>\n",
       "      <td>...</td>\n",
       "      <td>0.11</td>\n",
       "      <td>629</td>\n",
       "      <td>14</td>\n",
       "      <td>487</td>\n",
       "      <td>-0.31</td>\n",
       "      <td>115</td>\n",
       "      <td>0.02</td>\n",
       "      <td>-0.10</td>\n",
       "      <td>-0.49</td>\n",
       "      <td>0</td>\n",
       "    </tr>\n",
       "    <tr>\n",
       "      <th>1</th>\n",
       "      <td>1</td>\n",
       "      <td>5191</td>\n",
       "      <td>0</td>\n",
       "      <td>1</td>\n",
       "      <td>164</td>\n",
       "      <td>16</td>\n",
       "      <td>1</td>\n",
       "      <td>5</td>\n",
       "      <td>4</td>\n",
       "      <td>999</td>\n",
       "      <td>...</td>\n",
       "      <td>0.11</td>\n",
       "      <td>509</td>\n",
       "      <td>26</td>\n",
       "      <td>346</td>\n",
       "      <td>-0.31</td>\n",
       "      <td>317</td>\n",
       "      <td>0.02</td>\n",
       "      <td>0.24</td>\n",
       "      <td>-0.21</td>\n",
       "      <td>0</td>\n",
       "    </tr>\n",
       "    <tr>\n",
       "      <th>2</th>\n",
       "      <td>2</td>\n",
       "      <td>5228</td>\n",
       "      <td>1</td>\n",
       "      <td>0</td>\n",
       "      <td>774</td>\n",
       "      <td>75</td>\n",
       "      <td>1</td>\n",
       "      <td>5</td>\n",
       "      <td>12</td>\n",
       "      <td>999</td>\n",
       "      <td>...</td>\n",
       "      <td>0.11</td>\n",
       "      <td>1058</td>\n",
       "      <td>30</td>\n",
       "      <td>227</td>\n",
       "      <td>-0.31</td>\n",
       "      <td>464</td>\n",
       "      <td>0.02</td>\n",
       "      <td>-0.10</td>\n",
       "      <td>-0.21</td>\n",
       "      <td>0</td>\n",
       "    </tr>\n",
       "    <tr>\n",
       "      <th>3</th>\n",
       "      <td>3</td>\n",
       "      <td>5228</td>\n",
       "      <td>1</td>\n",
       "      <td>1</td>\n",
       "      <td>747</td>\n",
       "      <td>4</td>\n",
       "      <td>1</td>\n",
       "      <td>5</td>\n",
       "      <td>69</td>\n",
       "      <td>999</td>\n",
       "      <td>...</td>\n",
       "      <td>0.11</td>\n",
       "      <td>1048</td>\n",
       "      <td>4</td>\n",
       "      <td>17</td>\n",
       "      <td>-0.31</td>\n",
       "      <td>39</td>\n",
       "      <td>-0.18</td>\n",
       "      <td>-0.10</td>\n",
       "      <td>-0.21</td>\n",
       "      <td>0</td>\n",
       "    </tr>\n",
       "    <tr>\n",
       "      <th>4</th>\n",
       "      <td>4</td>\n",
       "      <td>5196</td>\n",
       "      <td>1</td>\n",
       "      <td>5</td>\n",
       "      <td>29</td>\n",
       "      <td>28</td>\n",
       "      <td>0</td>\n",
       "      <td>4</td>\n",
       "      <td>32</td>\n",
       "      <td>999</td>\n",
       "      <td>...</td>\n",
       "      <td>0.11</td>\n",
       "      <td>993</td>\n",
       "      <td>22</td>\n",
       "      <td>58</td>\n",
       "      <td>-0.31</td>\n",
       "      <td>492</td>\n",
       "      <td>0.02</td>\n",
       "      <td>-0.10</td>\n",
       "      <td>0.21</td>\n",
       "      <td>0</td>\n",
       "    </tr>\n",
       "  </tbody>\n",
       "</table>\n",
       "<p>5 rows × 42 columns</p>\n",
       "</div>"
      ],
      "text/plain": [
       "   Unnamed: 0   x_1  x_109  x_113  x_12  x_124  x_127  x_144  x_16  x_18  ...  \\\n",
       "0           0  5099      1      5   156     35     -2      1    40   999  ...   \n",
       "1           1  5191      0      1   164     16      1      5     4   999  ...   \n",
       "2           2  5228      1      0   774     75      1      5    12   999  ...   \n",
       "3           3  5228      1      1   747      4      1      5    69   999  ...   \n",
       "4           4  5196      1      5    29     28      0      4    32   999  ...   \n",
       "\n",
       "   x_73  x_77  x_78  x_8  x_80  x_83  x_89  x_91  x_99  y  \n",
       "0  0.11   629    14  487 -0.31   115  0.02 -0.10 -0.49  0  \n",
       "1  0.11   509    26  346 -0.31   317  0.02  0.24 -0.21  0  \n",
       "2  0.11  1058    30  227 -0.31   464  0.02 -0.10 -0.21  0  \n",
       "3  0.11  1048     4   17 -0.31    39 -0.18 -0.10 -0.21  0  \n",
       "4  0.11   993    22   58 -0.31   492  0.02 -0.10  0.21  0  \n",
       "\n",
       "[5 rows x 42 columns]"
      ]
     },
     "execution_count": 4,
     "metadata": {},
     "output_type": "execute_result"
    }
   ],
   "source": [
    "df.head()"
   ]
  },
  {
   "cell_type": "code",
   "execution_count": 5,
   "id": "6fd312ef",
   "metadata": {},
   "outputs": [
    {
     "data": {
      "text/plain": [
       "Index(['Unnamed: 0', 'x_1', 'x_109', 'x_113', 'x_12', 'x_124', 'x_127',\n",
       "       'x_144', 'x_16', 'x_18', 'x_2', 'x_25', 'x_27', 'x_28', 'x_30', 'x_33',\n",
       "       'x_38', 'x_42', 'x_44', 'x_45', 'x_52', 'x_55', 'x_57', 'x_59', 'x_60',\n",
       "       'x_62', 'x_64', 'x_67', 'x_68', 'x_7', 'x_70', 'x_71', 'x_73', 'x_77',\n",
       "       'x_78', 'x_8', 'x_80', 'x_83', 'x_89', 'x_91', 'x_99', 'y'],\n",
       "      dtype='object')"
      ]
     },
     "execution_count": 5,
     "metadata": {},
     "output_type": "execute_result"
    }
   ],
   "source": [
    "df.columns"
   ]
  },
  {
   "cell_type": "code",
   "execution_count": 6,
   "id": "c581fd64",
   "metadata": {},
   "outputs": [],
   "source": [
    "df= df.drop('Unnamed: 0', axis=1)"
   ]
  },
  {
   "cell_type": "code",
   "execution_count": 7,
   "id": "68ec5204",
   "metadata": {
    "scrolled": true
   },
   "outputs": [
    {
     "data": {
      "text/plain": [
       "(4119, 41)"
      ]
     },
     "execution_count": 7,
     "metadata": {},
     "output_type": "execute_result"
    }
   ],
   "source": [
    "df.shape"
   ]
  },
  {
   "cell_type": "code",
   "execution_count": 8,
   "id": "7da7b782",
   "metadata": {},
   "outputs": [],
   "source": [
    "df1= df.drop('y', axis=1)"
   ]
  },
  {
   "cell_type": "code",
   "execution_count": 240,
   "id": "9224e447",
   "metadata": {},
   "outputs": [
    {
     "data": {
      "image/png": "[encoded data removed]",
      "text/plain": [
       "<Figure size 1000x600 with 1 Axes>"
      ]
     },
     "metadata": {},
     "output_type": "display_data"
    }
   ],
   "source": [
    "# from sklearn.model_selection import cross_val_score\n",
    "\n",
    "# # Define the range of feature counts to consider\n",
    "# feature_counts = range(1, len(df1.columns) + 1)\n",
    "\n",
    "# # Store cross-validation scores for each feature count\n",
    "# cv_scores = []\n",
    "\n",
    "# for count in feature_counts:\n",
    "#     top_features = feature_importance_df['Feature'][:count].tolist()\n",
    "#     X_subset = df[top_features]\n",
    "#     scores = cross_val_score(model, X_subset, df['y'], cv=2, scoring='accuracy')\n",
    "#     cv_scores.append(scores.mean())\n",
    "\n",
    "# # Plot cross-validation scores\n",
    "# plt.figure(figsize=(10, 6))\n",
    "# plt.plot(feature_counts, cv_scores, marker='o', linestyle='-', color='skyblue')\n",
    "# plt.xlabel('Number of Features')\n",
    "# plt.ylabel('Cross-Validation Accuracy')\n",
    "# plt.title('Model Performance vs. Number of Features')\n",
    "# plt.show()\n"
   ]
  },
  {
   "cell_type": "markdown",
   "id": "67a86e26",
   "metadata": {},
   "source": [
    "# third\n"
   ]
  },
  {
   "cell_type": "code",
   "execution_count": 246,
   "id": "e7877e3f",
   "metadata": {},
   "outputs": [
    {
     "name": "stdout",
     "output_type": "stream",
     "text": [
      "Selected Features and their Importance Scores:\n",
      "   Feature       Score\n",
      "34     x_8  874.494742\n",
      "0      x_1  571.373390\n",
      "8     x_18  510.047074\n",
      "35    x_80  493.725495\n",
      "5    x_127  362.792758\n",
      "6    x_144  335.989909\n",
      "21    x_57  297.960027\n",
      "23    x_60  288.002435\n",
      "18    x_45   79.220260\n",
      "39    x_99   68.568704\n",
      "31    x_73   24.186186\n",
      "19    x_52   23.975513\n",
      "15    x_38   22.162134\n",
      "11    x_27   18.131882\n",
      "10    x_25   15.061487\n",
      "12    x_28    9.989708\n",
      "38    x_91    9.920854\n",
      "14    x_33    8.204749\n",
      "30    x_71    7.455614\n",
      "25    x_64    4.543984\n"
     ]
    }
   ],
   "source": [
    "from sklearn.feature_selection import VarianceThreshold, SelectKBest, f_classif\n",
    "import pandas as pd\n",
    "\n",
    "# Assuming 'df' is your Pandas DataFrame and 'target_variable' is your target column\n",
    "# If not, replace them with your actual DataFrame and target column\n",
    "\n",
    "\n",
    "\n",
    "# Use SelectKBest on the high variance data\n",
    "k = 20\n",
    "selector = SelectKBest(score_func=f_classif, k=k)\n",
    "X_selected = selector.fit_transform(df1, df['y'])\n",
    "\n",
    "# Get the selected features\n",
    "selected_features = df1.columns[selector.get_support()].tolist()\n",
    "\n",
    "# Get the importance scores (in this case, F-scores) of the selected features\n",
    "feature_scores = selector.scores_\n",
    "\n",
    "# Create a DataFrame with selected features and their importance scores\n",
    "feature_scores_df = pd.DataFrame({'Feature': df1.columns, 'Score': feature_scores})\n",
    "\n",
    "# Sort the DataFrame by score in descending order\n",
    "feature_scores_df = feature_scores_df.sort_values(by='Score', ascending=False)\n",
    "\n",
    "# Display the selected features and their importance scores\n",
    "print(\"Selected Features and their Importance Scores:\")\n",
    "print(feature_scores_df.head(k))\n"
   ]
  },
  {
   "cell_type": "code",
   "execution_count": 247,
   "id": "11b12a7e",
   "metadata": {},
   "outputs": [
    {
     "data": {
      "text/plain": [
       "34      x_8\n",
       "0       x_1\n",
       "8      x_18\n",
       "35     x_80\n",
       "5     x_127\n",
       "6     x_144\n",
       "21     x_57\n",
       "23     x_60\n",
       "18     x_45\n",
       "39     x_99\n",
       "31     x_73\n",
       "19     x_52\n",
       "15     x_38\n",
       "11     x_27\n",
       "10     x_25\n",
       "12     x_28\n",
       "38     x_91\n",
       "14     x_33\n",
       "30     x_71\n",
       "25     x_64\n",
       "Name: Feature, dtype: object"
      ]
     },
     "execution_count": 247,
     "metadata": {},
     "output_type": "execute_result"
    }
   ],
   "source": [
    "third=feature_scores_df.head(k)['Feature']\n",
    "third\n"
   ]
  },
  {
   "cell_type": "code",
   "execution_count": 248,
   "id": "e841df84",
   "metadata": {},
   "outputs": [],
   "source": [
    "# Create a DataFrame\n",
    "df_new5 = pd.DataFrame({'Variables': df1.columns})\n",
    "df_new5['Mark'] = df_new['Variables'].isin(third).astype(int)\n",
    "\n",
    "df_new5.to_csv('convolve5.csv', index=False)\n"
   ]
  },
  {
   "cell_type": "markdown",
   "id": "4130ef06",
   "metadata": {},
   "source": [
    "# correlation analysis"
   ]
  },
  {
   "cell_type": "code",
   "execution_count": 14,
   "id": "1edb4d8a",
   "metadata": {},
   "outputs": [],
   "source": [
    "correlation_matrix = df.corr()\n",
    "\n"
   ]
  },
  {
   "cell_type": "code",
   "execution_count": 15,
   "id": "5c448c81",
   "metadata": {},
   "outputs": [],
   "source": [
    "target_correlation = correlation_matrix['y'].abs()"
   ]
  },
  {
   "cell_type": "code",
   "execution_count": 28,
   "id": "0e6a8047",
   "metadata": {},
   "outputs": [],
   "source": [
    "relevant_features = target_correlation.nlargest(21).index.tolist()"
   ]
  },
  {
   "cell_type": "code",
   "execution_count": 29,
   "id": "d8bfac2b",
   "metadata": {},
   "outputs": [
    {
     "data": {
      "text/plain": [
       "21"
      ]
     },
     "execution_count": 29,
     "metadata": {},
     "output_type": "execute_result"
    }
   ],
   "source": [
    "len(relevant_features)"
   ]
  },
  {
   "cell_type": "code",
   "execution_count": 259,
   "id": "06a10da2",
   "metadata": {},
   "outputs": [],
   "source": [
    "# Create a DataFrame\n",
    "df_new3 = pd.DataFrame({'Variables': df1.columns})\n",
    "df_new3['Mark'] = df_new['Variables'].isin(relevant_features).astype(int)\n"
   ]
  },
  {
   "cell_type": "markdown",
   "id": "9b74be4d",
   "metadata": {},
   "source": [
    "# Entropyloss"
   ]
  },
  {
   "cell_type": "code",
   "execution_count": 1,
   "id": "e12998d2",
   "metadata": {},
   "outputs": [],
   "source": [
    "from scipy.stats import entropy\n",
    "import numpy as np\n",
    "\n",
    "def calculate_entropy_loss(feature_values, target_values):\n",
    "    unique_values, counts = np.unique(feature_values, return_counts=True)\n",
    "    probabilities = counts / len(feature_values)\n",
    "    \n",
    "    entropy_before_split = entropy(np.unique(target_values, return_counts=True)[1], base=2)\n",
    "\n",
    "    entropy_after_split = 0\n",
    "    for value, prob in zip(unique_values, probabilities):\n",
    "        subset_indices = feature_values == value\n",
    "        entropy_after_split += prob * entropy(np.unique(target_values[subset_indices], return_counts=True)[1], base=2)\n",
    "\n",
    "    entropy_loss = entropy_before_split - entropy_after_split\n",
    "    return entropy_loss\n",
    "\n"
   ]
  },
  {
   "cell_type": "code",
   "execution_count": 23,
   "id": "583a887e",
   "metadata": {},
   "outputs": [],
   "source": [
    "# Assuming 'data' is your dataset and 'target' is the target variable\n",
    "feature_entropy_loss = {}\n",
    "for feature in df.columns:\n",
    "    entropy_loss = calculate_entropy_loss(df[feature], df['y'])\n",
    "    feature_entropy_loss[feature] = entropy_loss\n",
    "\n",
    "# Select the top 20 features with the highest entropy loss\n",
    "selected_features = sorted(feature_entropy_loss, key=feature_entropy_loss.get, reverse=True)[:21]"
   ]
  },
  {
   "cell_type": "code",
   "execution_count": 24,
   "id": "98a0e4a0",
   "metadata": {},
   "outputs": [
    {
     "data": {
      "text/plain": [
       "['y',\n",
       " 'x_33',\n",
       " 'x_8',\n",
       " 'x_77',\n",
       " 'x_44',\n",
       " 'x_12',\n",
       " 'x_7',\n",
       " 'x_83',\n",
       " 'x_28',\n",
       " 'x_1',\n",
       " 'x_127',\n",
       " 'x_144',\n",
       " 'x_18',\n",
       " 'x_80',\n",
       " 'x_70',\n",
       " 'x_59',\n",
       " 'x_57',\n",
       " 'x_60',\n",
       " 'x_25',\n",
       " 'x_124',\n",
       " 'x_45']"
      ]
     },
     "execution_count": 24,
     "metadata": {},
     "output_type": "execute_result"
    }
   ],
   "source": [
    "selected_features"
   ]
  },
  {
   "cell_type": "code",
   "execution_count": 30,
   "id": "57aabfd8",
   "metadata": {},
   "outputs": [],
   "source": [
    "common= list(set(selected_features).intersection(relevant_features))"
   ]
  },
  {
   "cell_type": "code",
   "execution_count": 31,
   "id": "01068c07",
   "metadata": {},
   "outputs": [
    {
     "data": {
      "text/plain": [
       "13"
      ]
     },
     "execution_count": 31,
     "metadata": {},
     "output_type": "execute_result"
    }
   ],
   "source": [
    "len(common)"
   ]
  },
  {
   "cell_type": "code",
   "execution_count": 37,
   "id": "fb013ba7",
   "metadata": {},
   "outputs": [],
   "source": [
    "from sklearn.feature_selection import mutual_info_classif\n",
    "\n",
    "from sklearn.ensemble import RandomForestClassifier\n",
    "from sklearn.model_selection import cross_val_score\n",
    "from sklearn.linear_model import LogisticRegression\n",
    "from sklearn.feature_selection import SelectFromModel"
   ]
  },
  {
   "cell_type": "code",
   "execution_count": 40,
   "id": "2e858362",
   "metadata": {},
   "outputs": [
    {
     "name": "stdout",
     "output_type": "stream",
     "text": [
      "LASSO Selected features: [ 0  1  2  3  4  5  6  7  8  9 10 11 12 13 14 15 16 17 18 19 21 22 23 25\n",
      " 26 28 29 30 31 32 33 34 35 36 38 39]\n"
     ]
    },
    {
     "name": "stderr",
     "output_type": "stream",
     "text": [
      "C:\\ProgramData\\Anaconda3\\lib\\site-packages\\sklearn\\svm\\_base.py:1206: ConvergenceWarning: Liblinear failed to converge, increase the number of iterations.\n",
      "  warnings.warn(\n"
     ]
    }
   ],
   "source": [
    "# Example using LASSO regression for feature selection\n",
    "lasso = LogisticRegression(penalty='l1', solver='liblinear')\n",
    "lasso.fit(df1, df['y'])\n",
    "\n",
    "# Display coefficients and selected features\n",
    "lasso_coefficients = lasso.coef_[0]\n",
    "selected_features_lasso = np.where(lasso_coefficients != 0)[0]\n",
    "print(\"LASSO Selected features:\", selected_features_lasso)"
   ]
  },
  {
   "cell_type": "code",
   "execution_count": 55,
   "id": "e94f776a",
   "metadata": {},
   "outputs": [
    {
     "name": "stdout",
     "output_type": "stream",
     "text": [
      "[-9.65648374e-03  3.30197788e-02 -2.99746624e-03  1.88230226e-05\n",
      "  1.65957963e-04 -1.08545146e+00  7.55816365e-01  1.56263038e-03\n",
      " -1.38349757e-03  2.35727441e-02  4.77635631e-03  4.79697371e-01\n",
      "  7.24080278e-03  3.13782878e-04 -1.00991883e-02  2.76071204e-01\n",
      " -4.38087664e-03 -2.08880824e-04  6.26138377e-01 -8.47253203e-02\n",
      "  0.00000000e+00  5.12040404e-01 -2.50467723e-04 -1.44854488e-01\n",
      "  0.00000000e+00 -2.58684534e-01  1.50078440e-01  0.00000000e+00\n",
      " -1.52023926e-05  1.54734491e-04  1.96835250e-01 -5.47992624e-02\n",
      "  1.57129146e-04 -5.70294412e-03  5.09946315e-03  1.38297634e-01\n",
      " -1.04636407e-03  0.00000000e+00  3.34863033e-01  1.94232916e-01]\n",
      "LASSO Selected features (sorted): [28  3 29 32  4 17 22 13 36  8  7  2 16 10 34 33 12  0 14  9  1 31 19 35\n",
      " 23 26 39 30 25 15 38 11 21 18  6  5]\n"
     ]
    }
   ],
   "source": [
    "# Display coefficients and selected features in increasing order\n",
    "lasso_coefficients = lasso.coef_[0]\n",
    "print(lasso_coefficients)\n",
    "selected_features_lasso = np.where(lasso_coefficients != 0)[0]\n",
    "selected_features_lasso_sorted = np.argsort(np.abs(lasso_coefficients[selected_features_lasso]))\n",
    "\n",
    "print(\"LASSO Selected features (sorted):\", selected_features_lasso[selected_features_lasso_sorted])\n"
   ]
  },
  {
   "cell_type": "code",
   "execution_count": 56,
   "id": "fafab177",
   "metadata": {},
   "outputs": [],
   "source": [
    "top_20_features = selected_features_lasso_sorted[:20]"
   ]
  },
  {
   "cell_type": "code",
   "execution_count": 58,
   "id": "02637b88",
   "metadata": {},
   "outputs": [
    {
     "data": {
      "text/plain": [
       "array([25,  3, 26, 29,  4, 17, 21, 13, 33,  8,  7,  2, 16, 10, 31, 30, 12,\n",
       "        0, 14,  9], dtype=int64)"
      ]
     },
     "execution_count": 58,
     "metadata": {},
     "output_type": "execute_result"
    }
   ],
   "source": [
    "top_20_features"
   ]
  },
  {
   "cell_type": "code",
   "execution_count": 61,
   "id": "7572a597",
   "metadata": {},
   "outputs": [],
   "source": [
    "zzz= df1.columns[top_20_features]"
   ]
  },
  {
   "cell_type": "code",
   "execution_count": 70,
   "id": "6683eae3",
   "metadata": {},
   "outputs": [],
   "source": [
    "common1= list(set(zzz).intersection(relevant_features))"
   ]
  },
  {
   "cell_type": "code",
   "execution_count": 71,
   "id": "9893801d",
   "metadata": {},
   "outputs": [
    {
     "data": {
      "text/plain": [
       "['x_1', 'x_64', 'x_71', 'x_57', 'x_73', 'x_18', 'x_33', 'x_28', 'x_25']"
      ]
     },
     "execution_count": 71,
     "metadata": {},
     "output_type": "execute_result"
    }
   ],
   "source": [
    "common1"
   ]
  },
  {
   "cell_type": "code",
   "execution_count": 67,
   "id": "04782fe0",
   "metadata": {},
   "outputs": [
    {
     "name": "stdout",
     "output_type": "stream",
     "text": [
      "Selected Features using Chi-Square Test:\n",
      "Index(['x_1', 'x_12', 'x_127', 'x_144', 'x_18', 'x_25', 'x_28', 'x_33', 'x_42',\n",
      "       'x_45', 'x_52', 'x_57', 'x_60', 'x_7', 'x_70', 'x_73', 'x_77', 'x_8',\n",
      "       'x_80', 'x_83'],\n",
      "      dtype='object')\n"
     ]
    }
   ],
   "source": [
    "import pandas as pd\n",
    "from sklearn.feature_selection import SelectKBest, chi2\n",
    "\n",
    "df1_positive = df1.abs()\n",
    "\n",
    "# Assuming df1 is your DataFrame and 'y' is the target variable\n",
    "X = df1_positive  # Features\n",
    "y = df['y']  # Target variable\n",
    "\n",
    "# Apply the chi-square test statistic for feature selection\n",
    "k_best = SelectKBest(score_func=chi2, k=20)\n",
    "X_new = k_best.fit_transform(X, y)\n",
    "\n",
    "# Get the indices of the selected features\n",
    "selected_features_indices = k_best.get_support(indices=True)\n",
    "\n",
    "# Get the names of the selected features\n",
    "selected_features = X.columns[selected_features_indices]\n",
    "\n",
    "# Display the selected features\n",
    "print(\"Selected Features using Chi-Square Test:\")\n",
    "print(selected_features)\n"
   ]
  },
  {
   "cell_type": "code",
   "execution_count": 68,
   "id": "6868b570",
   "metadata": {},
   "outputs": [
    {
     "data": {
      "text/plain": [
       "['x_127',\n",
       " 'x_1',\n",
       " 'x_144',\n",
       " 'x_80',\n",
       " 'x_52',\n",
       " 'x_60',\n",
       " 'x_45',\n",
       " 'x_8',\n",
       " 'x_57',\n",
       " 'x_73',\n",
       " 'x_18',\n",
       " 'x_33',\n",
       " 'x_28',\n",
       " 'x_25']"
      ]
     },
     "execution_count": 68,
     "metadata": {},
     "output_type": "execute_result"
    }
   ],
   "source": [
    "common= list(set(relevant_features).intersection(selected_features))\n",
    "common"
   ]
  },
  {
   "cell_type": "code",
   "execution_count": 69,
   "id": "d37ef293",
   "metadata": {},
   "outputs": [
    {
     "data": {
      "text/plain": [
       "14"
      ]
     },
     "execution_count": 69,
     "metadata": {},
     "output_type": "execute_result"
    }
   ],
   "source": [
    "len(common)"
   ]
  },
  {
   "cell_type": "code",
   "execution_count": 83,
   "id": "ac5f00d9",
   "metadata": {},
   "outputs": [
    {
     "name": "stdout",
     "output_type": "stream",
     "text": [
      "Selected relevant features: [34  0 17 14 36 10  3 21 32 22  4 29 12 28  8 35  7 16 33  5]\n"
     ]
    }
   ],
   "source": [
    "import numpy as np\n",
    "from sklearn.ensemble import RandomForestClassifier\n",
    "from sklearn.metrics import accuracy_score\n",
    "from sklearn.model_selection import train_test_split\n",
    "\n",
    "from mlxtend.feature_selection import SequentialFeatureSelector\n",
    "\n",
    "# Generate a dataset with 40 features (20 relevant and 20 irrelevant)\n",
    "\n",
    "X = df1\n",
    "y =df['y']\n",
    "\n",
    "# Use a Random Forest classifier\n",
    "clf = RandomForestClassifier(n_estimators=100, random_state=42)\n",
    "\n",
    "# Train the model\n",
    "clf.fit(X, y)\n",
    "# Sequential Floating Forward Selection (SFFS)\n",
    "sffs = SequentialFeatureSelector(clf,\n",
    "                                 k_features=20,\n",
    "                                 forward=True,\n",
    "                                 floating=True,\n",
    "                                 scoring='accuracy',\n",
    "                                 cv=5)\n",
    "\n",
    "# Fit the SFFS to the training data\n",
    "sffs.fit(X,y)\n",
    "\n",
    "# Get the selected feature indices\n",
    "selected_features_indices = np.array(sffs.k_feature_idx_)\n",
    "\n",
    "# Get feature importances\n",
    "feature_importances = clf.feature_importances_\n",
    "\n",
    "# Rank features based on importance\n",
    "ranked_features = np.argsort(feature_importances)[::-1]\n",
    "\n",
    "# Select the top 20 relevant features\n",
    "selected_features = ranked_features[:20]\n",
    "\n",
    "\n",
    "\n",
    "print(\"Selected relevant features:\", selected_features)\n",
    "\n"
   ]
  },
  {
   "cell_type": "code",
   "execution_count": 82,
   "id": "e6f8f44f",
   "metadata": {},
   "outputs": [
    {
     "name": "stdout",
     "output_type": "stream",
     "text": [
      "Defaulting to user installation because normal site-packages is not writeable\n",
      "Collecting mlxtend\n",
      "  Downloading mlxtend-0.23.1-py3-none-any.whl (1.4 MB)\n",
      "     ---------------------------------------- 1.4/1.4 MB 1.9 MB/s eta 0:00:00\n",
      "Requirement already satisfied: numpy>=1.16.2 in c:\\programdata\\anaconda3\\lib\\site-packages (from mlxtend) (1.21.5)\n",
      "Requirement already satisfied: scipy>=1.2.1 in c:\\programdata\\anaconda3\\lib\\site-packages (from mlxtend) (1.9.1)\n",
      "Requirement already satisfied: scikit-learn>=1.0.2 in c:\\programdata\\anaconda3\\lib\\site-packages (from mlxtend) (1.0.2)\n",
      "Requirement already satisfied: matplotlib>=3.0.0 in c:\\programdata\\anaconda3\\lib\\site-packages (from mlxtend) (3.5.2)\n",
      "Requirement already satisfied: joblib>=0.13.2 in c:\\programdata\\anaconda3\\lib\\site-packages (from mlxtend) (1.1.0)\n",
      "Requirement already satisfied: pandas>=0.24.2 in c:\\programdata\\anaconda3\\lib\\site-packages (from mlxtend) (1.4.4)\n",
      "Requirement already satisfied: pillow>=6.2.0 in c:\\programdata\\anaconda3\\lib\\site-packages (from matplotlib>=3.0.0->mlxtend) (9.2.0)\n",
      "Requirement already satisfied: python-dateutil>=2.7 in c:\\programdata\\anaconda3\\lib\\site-packages (from matplotlib>=3.0.0->mlxtend) (2.8.2)\n",
      "Requirement already satisfied: packaging>=20.0 in c:\\programdata\\anaconda3\\lib\\site-packages (from matplotlib>=3.0.0->mlxtend) (21.3)\n",
      "Requirement already satisfied: cycler>=0.10 in c:\\programdata\\anaconda3\\lib\\site-packages (from matplotlib>=3.0.0->mlxtend) (0.11.0)\n",
      "Requirement already satisfied: pyparsing>=2.2.1 in c:\\programdata\\anaconda3\\lib\\site-packages (from matplotlib>=3.0.0->mlxtend) (3.0.9)\n",
      "Requirement already satisfied: kiwisolver>=1.0.1 in c:\\programdata\\anaconda3\\lib\\site-packages (from matplotlib>=3.0.0->mlxtend) (1.4.2)\n",
      "Requirement already satisfied: fonttools>=4.22.0 in c:\\programdata\\anaconda3\\lib\\site-packages (from matplotlib>=3.0.0->mlxtend) (4.25.0)\n",
      "Requirement already satisfied: pytz>=2020.1 in c:\\users\\hp\\appdata\\roaming\\python\\python39\\site-packages (from pandas>=0.24.2->mlxtend) (2023.3.post1)\n",
      "Requirement already satisfied: threadpoolctl>=2.0.0 in c:\\programdata\\anaconda3\\lib\\site-packages (from scikit-learn>=1.0.2->mlxtend) (2.2.0)\n",
      "Requirement already satisfied: six>=1.5 in c:\\programdata\\anaconda3\\lib\\site-packages (from python-dateutil>=2.7->matplotlib>=3.0.0->mlxtend) (1.16.0)\n",
      "Installing collected packages: mlxtend\n",
      "Successfully installed mlxtend-0.23.1\n",
      "Note: you may need to restart the kernel to use updated packages.\n"
     ]
    }
   ],
   "source": [
    "pip install mlxtend\n"
   ]
  },
  {
   "cell_type": "code",
   "execution_count": null,
   "id": "6756541c",
   "metadata": {},
   "outputs": [],
   "source": []
  }
 ],
 "metadata": {
  "kernelspec": {
   "display_name": "Python 3 (ipykernel)",
   "language": "python",
   "name": "python3"
  },
  "language_info": {
   "codemirror_mode": {
    "name": "ipython",
    "version": 3
   },
   "file_extension": ".py",
   "mimetype": "text/x-python",
   "name": "python",
   "nbconvert_exporter": "python",
   "pygments_lexer": "ipython3",
   "version": "3.9.13"
  }
 },
 "nbformat": 4,
 "nbformat_minor": 5
}
